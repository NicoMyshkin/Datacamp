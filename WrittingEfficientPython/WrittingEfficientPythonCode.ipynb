{
  "nbformat": 4,
  "nbformat_minor": 0,
  "metadata": {
    "colab": {
      "name": "WrittingEfficientPythonCode.ipynb",
      "provenance": []
    },
    "kernelspec": {
      "name": "python3",
      "display_name": "Python 3"
    },
    "language_info": {
      "name": "python"
    }
  },
  "cells": [
    {
      "cell_type": "markdown",
      "metadata": {
        "id": "VbWjkjYqjK3V"
      },
      "source": [
        "#Writing Efficient Python Code\n",
        "In this chapter, you'll learn what it means to write efficient Python code. You'll explore Python's Standard Library, learn about NumPy arrays, and practice using some of Python's built-in tools. This chapter builds a foundation for the concepts covered ahead."
      ]
    },
    {
      "cell_type": "markdown",
      "metadata": {
        "id": "KxohcjN2ZKAb"
      },
      "source": [
        "##Foundations for efficiencies\n",
        "\n",
        "### Defining efficient\n",
        "\n",
        "Writing **efficient** Python code:\n",
        "- Minimal completion time (fast runtime)\n",
        "- Minimal resource consumption (small memory footprint)\n",
        "\n",
        "### Defining pythonic\n",
        "Writing efficient **Python** code:\n",
        "- Focus on readability\n",
        "- Using Python's constructs as intended (i.e., Pythonic)\n",
        "\n",
        "```\n",
        "# Non-Pythonic\n",
        "doubled_numbers = []\n",
        "\n",
        "for i in range(len(numbers)):\n",
        "  doubled_numbers.append(numbers[i]*2)\n",
        "\n",
        "# Pythonic\n",
        "doubled_numbers = [x * 2 for x in numbers]\n",
        "\n",
        "```\n",
        "\n"
      ]
    },
    {
      "cell_type": "markdown",
      "metadata": {
        "id": "9zuSxfqUdTkl"
      },
      "source": [
        "### Built-in practice range()\n",
        "Using range() with a step value\n",
        "```\n",
        "#range(start,stop,step)\n",
        "\n",
        "even_nums = range(2, 11, 2)\n",
        "even_nums_list = list(even_nums)\n",
        "print(even_nums_list)\n",
        "```\n",
        "```\n",
        "[2, 4, 6, 8, 10]\n",
        "```\n",
        "\n",
        "\n"
      ]
    },
    {
      "cell_type": "code",
      "metadata": {
        "id": "WzFjz9dRbwVW"
      },
      "source": [
        "names = ['Jerry', 'Kramer', 'Elaine', 'George', 'Newman']"
      ],
      "execution_count": 1,
      "outputs": []
    },
    {
      "cell_type": "code",
      "metadata": {
        "colab": {
          "base_uri": "https://localhost:8080/"
        },
        "id": "_WyRoOoMZF8V",
        "outputId": "e6383dca-e795-4e26-94c7-d65570d73c72"
      },
      "source": [
        "%%time\n",
        "# Print the list created using the Non-Pythonic approach\n",
        "i = 0\n",
        "new_list= []\n",
        "while i < len(names):\n",
        "    if len(names[i]) >= 6:\n",
        "        new_list.append(names[i])\n",
        "    i += 1\n",
        "print(new_list)"
      ],
      "execution_count": 5,
      "outputs": [
        {
          "output_type": "stream",
          "name": "stdout",
          "text": [
            "['Kramer', 'Elaine', 'George', 'Newman']\n",
            "CPU times: user 892 µs, sys: 8 µs, total: 900 µs\n",
            "Wall time: 912 µs\n"
          ]
        }
      ]
    },
    {
      "cell_type": "code",
      "metadata": {
        "colab": {
          "base_uri": "https://localhost:8080/"
        },
        "id": "lRLcn535brT3",
        "outputId": "b9c1d360-fb46-43dd-9b14-4b1fc404cfe5"
      },
      "source": [
        "%%time\n",
        "# Print the list created by looping over the contents of names\n",
        "better_list = []\n",
        "for name in names:\n",
        "    if len(name) >= 6:\n",
        "        better_list.append(name)\n",
        "print(better_list)"
      ],
      "execution_count": 6,
      "outputs": [
        {
          "output_type": "stream",
          "name": "stdout",
          "text": [
            "['Kramer', 'Elaine', 'George', 'Newman']\n",
            "CPU times: user 1.58 ms, sys: 0 ns, total: 1.58 ms\n",
            "Wall time: 1.66 ms\n"
          ]
        }
      ]
    },
    {
      "cell_type": "code",
      "metadata": {
        "colab": {
          "base_uri": "https://localhost:8080/"
        },
        "id": "ezJ627d6bth7",
        "outputId": "4c12d6a7-605c-4aeb-e38c-b80bb4bfffc1"
      },
      "source": [
        "%%time\n",
        "# Print the list created by using list comprehension\n",
        "best_list = [name for name in names if len(name) >= 6]\n",
        "print(best_list)"
      ],
      "execution_count": 7,
      "outputs": [
        {
          "output_type": "stream",
          "name": "stdout",
          "text": [
            "['Kramer', 'Elaine', 'George', 'Newman']\n",
            "CPU times: user 1.83 ms, sys: 0 ns, total: 1.83 ms\n",
            "Wall time: 2.77 ms\n"
          ]
        }
      ]
    },
    {
      "cell_type": "markdown",
      "metadata": {
        "id": "8-z_JYiqdOs1"
      },
      "source": [
        "### Built-in practice: enumerate()\n",
        "Creates an indexed list of objects\n",
        "\n",
        "\n",
        "```\n",
        "letters = ['a','b','c','d' ]\n",
        "indexed_letters = enumerate(letters)\n",
        "indexed_letters_list = list(indexed_letters)\n",
        "print(indexed_letters_list)\n",
        "\n",
        "```\n",
        "```\n",
        "[(0,'a'), (1,'b'), (2,'c'), (3,'d')]\n",
        "```\n",
        "\n",
        "\n",
        "\n"
      ]
    },
    {
      "cell_type": "code",
      "metadata": {
        "colab": {
          "base_uri": "https://localhost:8080/"
        },
        "id": "s8Z4Pn8vcSDR",
        "outputId": "8f5e5114-485e-4aa1-a7f7-519e501b11e8"
      },
      "source": [
        "%%time\n",
        "# Rewrite the for loµsop to use enumerate\n",
        "indexed_names = []\n",
        "for i,name in enumerate(names):\n",
        "    index_name = (i,name)\n",
        "    indexed_names.append(index_name) \n",
        "print(indexed_names)"
      ],
      "execution_count": 10,
      "outputs": [
        {
          "output_type": "stream",
          "name": "stdout",
          "text": [
            "[(0, 'Jerry'), (1, 'Kramer'), (2, 'Elaine'), (3, 'George'), (4, 'Newman')]\n",
            "CPU times: user 2.22 ms, sys: 21 µs, total: 2.24 ms\n",
            "Wall time: 5.13 ms\n"
          ]
        }
      ]
    },
    {
      "cell_type": "code",
      "metadata": {
        "colab": {
          "base_uri": "https://localhost:8080/"
        },
        "id": "1JOjAR5udblP",
        "outputId": "275967ab-f011-4611-efe9-52c917fe335f"
      },
      "source": [
        "%%time\n",
        "# Rewrite the above for loop using list comprehension\n",
        "indexed_names_comp = [(i,name) for i,name in enumerate(names)]\n",
        "print(indexed_names_comp)"
      ],
      "execution_count": 11,
      "outputs": [
        {
          "output_type": "stream",
          "name": "stdout",
          "text": [
            "[(0, 'Jerry'), (1, 'Kramer'), (2, 'Elaine'), (3, 'George'), (4, 'Newman')]\n",
            "CPU times: user 2.02 ms, sys: 0 ns, total: 2.02 ms\n",
            "Wall time: 1.89 ms\n"
          ]
        }
      ]
    },
    {
      "cell_type": "code",
      "metadata": {
        "colab": {
          "base_uri": "https://localhost:8080/"
        },
        "id": "TuZI_9jRdf0l",
        "outputId": "66312cf2-7e16-4344-81ee-42e245b6a820"
      },
      "source": [
        "%%time\n",
        "# Unpack an enumerate object with a starting index of one\n",
        "indexed_names_unpack = [*enumerate(names, 1)]\n",
        "print(indexed_names_unpack)"
      ],
      "execution_count": 12,
      "outputs": [
        {
          "output_type": "stream",
          "name": "stdout",
          "text": [
            "[(1, 'Jerry'), (2, 'Kramer'), (3, 'Elaine'), (4, 'George'), (5, 'Newman')]\n",
            "CPU times: user 1.68 ms, sys: 0 ns, total: 1.68 ms\n",
            "Wall time: 2.07 ms\n"
          ]
        }
      ]
    },
    {
      "cell_type": "markdown",
      "metadata": {
        "id": "6v5pGNqOdqGA"
      },
      "source": [
        "###Built-in practice: map()\n",
        "Applies a function over an object\n",
        "\n",
        "```\n",
        "nums = [1.5, 2.3, 3.4, 4.6, 5.0]\n",
        "rnd_nums = map(round, nums)\n",
        "print(list(rnd_nums))\n",
        "```\n",
        "```\n",
        "[2, 2, 3, 5, 5]\n",
        "```\n",
        "\n",
        "\n"
      ]
    },
    {
      "cell_type": "code",
      "metadata": {
        "colab": {
          "base_uri": "https://localhost:8080/"
        },
        "id": "9fm5OJovdtOD",
        "outputId": "9072efb9-2e0e-43ea-8d73-a8f894a80ddc"
      },
      "source": [
        "# Use map to apply str.upper to each element in names\n",
        "names_map  = map(str.upper, names)\n",
        "\n",
        "# Print the type of the names_map\n",
        "print(type(names_map))\n",
        "\n",
        "# Unpack names_map into a list\n",
        "names_uppercase = [*names_map]\n",
        "\n",
        "# Print the list created above\n",
        "print(names_uppercase)"
      ],
      "execution_count": 13,
      "outputs": [
        {
          "output_type": "stream",
          "name": "stdout",
          "text": [
            "<class 'map'>\n",
            "['JERRY', 'KRAMER', 'ELAINE', 'GEORGE', 'NEWMAN']\n"
          ]
        }
      ]
    },
    {
      "cell_type": "markdown",
      "metadata": {
        "id": "xoo20Vf3ZjDb"
      },
      "source": [
        "### NumPy array overview\n",
        "NumPy arrays provide a fast and memomory efficient alternative to Python lists.\n",
        "\n",
        "```\n",
        "import numpy as np\n",
        "nums_np = np.array(range(5))\n",
        "\n",
        "```\n",
        "```\n",
        "array([0, 1, 2, 3, 4])\n",
        "```\n",
        "\n",
        "Homogeneity allows NumPy arrays to be more memory efficient and faster than Python lists, requiring all elements be the same type eliminates the overhead needed for data type checking. \n",
        "\n",
        "###NumPy array broadcasting\n",
        "Python lists don't support broadcasting. \n",
        "Let's say, for example, you'd like to square each number within a list of numbers. \n",
        "```\n",
        "nums = [-2,-1, 0, 1, 2]\n",
        "nums ** 2\n",
        "```\n",
        "It'd be nice if we could simply square the list, and get a list of squared values returned.\n",
        "```\n",
        "TypeError: unsupported operand type(s) for ** or pow(): 'list' and 'int'\n",
        "```\n",
        "Unfortunately, Python lists don't support these types of calculations.\n",
        "\n",
        "- List approach\n",
        "\n",
        "```\n",
        "# For loop (inefficient option)\n",
        "sqrd_nums = []\n",
        "for num in nums:\n",
        "sqrd_nums.append(num ** 2)\n",
        "print(sqrd_nums)\n",
        "```\n",
        "- List comprehension (better option but not the best)\n",
        "\n",
        "```\n",
        "# List comprehension (better option but not best)\n",
        "sqrd_nums = [num ** 2 for num in nums]\n",
        "print(sqrd_nums)\n",
        "```\n",
        "**But neither of these approaches is the most efficient way of doing this.**\n",
        "\n",
        "- NumPy array broadcasting for the win!\n",
        "\n",
        "```\n",
        "nums_np = np.array([-2,-1, 0, 1, 2])\n",
        "nums_np ** 2\n",
        "```\n",
        "```\n",
        "array([4, 1, 0, 1, 4])\n",
        "```\n",
        "\n",
        "NumPy arrays vectorize operations, so they are performed on all elements of an object at once. This allows us to efficiently perform calculations over entire arrays. "
      ]
    },
    {
      "cell_type": "code",
      "metadata": {
        "id": "h4XC8nEedtVp"
      },
      "source": [
        "import numpy as np"
      ],
      "execution_count": 2,
      "outputs": []
    },
    {
      "cell_type": "code",
      "metadata": {
        "id": "4KPvgkCkdh-C"
      },
      "source": [
        "nums = [[-2,-1, 0, 1, 2],[6, 7, 8, 9, 10]]\n",
        "nums_np = np.array(nums)\n"
      ],
      "execution_count": 5,
      "outputs": []
    },
    {
      "cell_type": "code",
      "metadata": {
        "id": "xJGz4zwuZjTJ"
      },
      "source": [
        "# Print second row of nums\n",
        "print(nums[1,0])\n",
        "\n",
        "# Print all elements of nums that are greater than six\n",
        "print(nums[nums > 6])\n",
        "\n",
        "# Double every element of nums\n",
        "nums_dbl = nums * 2\n",
        "print(nums_dbl)\n",
        "\n",
        "# Replace the third column of nums\n",
        "nums[:,2] = nums[:,2] + 1\n",
        "print(nums)"
      ],
      "execution_count": null,
      "outputs": []
    },
    {
      "cell_type": "markdown",
      "metadata": {
        "id": "mbeG1M0IeUfg"
      },
      "source": [
        "###Bringing it all together: Festivus!\n",
        "In this exercise, you will be throwing a party—a Festivus if you will!"
      ]
    },
    {
      "cell_type": "code",
      "metadata": {
        "id": "BWKDYXPbeZB9"
      },
      "source": [
        "names = ['Jerry', 'Kramer', 'Elaine', 'George', 'Newman']\n",
        "\n",
        "# def welcome_guest(guest,time):\n",
        "#   print(\"Welcome to Festivus {}... You're {} min late.\").format([guest,guest_arrivals])\n",
        "\n",
        "# Create a list of arrival times\n",
        "arrival_times = [*range(10, 60, 10)]\n",
        "\n",
        "print(arrival_times)\n",
        "\n",
        "# Convert arrival_times to an array and update the times\n",
        "arrival_times_np = np.array(arrival_times)\n",
        "new_times = arrival_times_np - 3\n",
        "\n",
        "print(new_times)\n",
        "\n",
        "# Use list comprehension and enumerate to pair guests to new times\n",
        "guest_arrivals = [(names[i],time) for i,time in enumerate(new_times)]\n",
        "\n",
        "print(guest_arrivals)\n",
        "\n",
        "# Map the welcome_guest function to each (guest,time) pair\n",
        "welcome_map = map(welcome_guest, guest_arrivals)\n",
        "\n",
        "guest_welcomes = [*welcome_map]\n",
        "print(*guest_welcomes, sep='\\n')\n"
      ],
      "execution_count": null,
      "outputs": []
    },
    {
      "cell_type": "markdown",
      "metadata": {
        "id": "oxWNFtWoi2kS"
      },
      "source": [
        "##Timing and profiling code\n",
        "In this chapter, you will learn how to gather and compare runtimes between different coding approaches. You'll practice using the line_profiler and memory_profiler packages to profile your code base and spot bottlenecks. Then, you'll put your learnings to practice by replacing these bottlenecks with efficient Python code."
      ]
    },
    {
      "cell_type": "markdown",
      "metadata": {
        "id": "rRykwTPjwmZs"
      },
      "source": [
        "###Code Profiling\n",
        "- Detailed stats on frequency and duration of function calls\n",
        "- Line-by-line analyses\n",
        "- Package used: line_profiler  `line_profiler`\n",
        "\n",
        "```pip install line_profiler```"
      ]
    },
    {
      "cell_type": "code",
      "metadata": {
        "colab": {
          "base_uri": "https://localhost:8080/"
        },
        "id": "n3VTBE7yyCCA",
        "outputId": "ea7102ff-521b-4a7f-c183-497ad384c37e"
      },
      "source": [
        "# Code profiling: runtime\n",
        "heroes = ['Batman','Superman','Wonder Woman']\n",
        "hts = np.array([188.0, 191.0, 183.0])\n",
        "wts = np.array([ 95.0, 101.0, 74.0])\n",
        "\n",
        "def convert_units(heroes, heights, weights):\n",
        "  new_hts = [ht * 0.39370 for ht in heights]\n",
        "  new_wts = [wt * 2.20462 for wt in weights]\n",
        "  hero_data = {}\n",
        "\n",
        "  for i,hero in enumerate(heroes):\n",
        "    hero_data[hero] = (new_hts[i], new_wts[i])\n",
        "  return hero_data\n",
        "\n",
        "convert_units(heroes, hts, wts)\n",
        "%timeit convert_units(heroes, hts, wts)"
      ],
      "execution_count": 3,
      "outputs": [
        {
          "output_type": "stream",
          "name": "stdout",
          "text": [
            "100000 loops, best of 5: 4.47 µs per loop\n"
          ]
        }
      ]
    },
    {
      "cell_type": "code",
      "metadata": {
        "colab": {
          "base_uri": "https://localhost:8080/"
        },
        "id": "S_NmC5UrxtCh",
        "outputId": "89278edb-d0a4-4d27-9745-5ea8b5050cfa"
      },
      "source": [
        "# Code profiling: line_profiler\n",
        "\n",
        "!pip install line_profiler\n",
        "%load_ext line_profiler\n",
        "%lprun -f convert_units convert_units(heroes,hts,wts)"
      ],
      "execution_count": 4,
      "outputs": [
        {
          "output_type": "stream",
          "name": "stdout",
          "text": [
            "Collecting line_profiler\n",
            "  Downloading line_profiler-3.3.1-cp37-cp37m-manylinux2010_x86_64.whl (63 kB)\n",
            "\u001b[?25l\r\u001b[K     |█████▏                          | 10 kB 21.4 MB/s eta 0:00:01\r\u001b[K     |██████████▎                     | 20 kB 20.0 MB/s eta 0:00:01\r\u001b[K     |███████████████▍                | 30 kB 12.4 MB/s eta 0:00:01\r\u001b[K     |████████████████████▌           | 40 kB 9.3 MB/s eta 0:00:01\r\u001b[K     |█████████████████████████▋      | 51 kB 5.6 MB/s eta 0:00:01\r\u001b[K     |██████████████████████████████▊ | 61 kB 5.9 MB/s eta 0:00:01\r\u001b[K     |████████████████████████████████| 63 kB 1.7 MB/s \n",
            "\u001b[?25hRequirement already satisfied: IPython>=0.13 in /usr/local/lib/python3.7/dist-packages (from line_profiler) (5.5.0)\n",
            "Requirement already satisfied: simplegeneric>0.8 in /usr/local/lib/python3.7/dist-packages (from IPython>=0.13->line_profiler) (0.8.1)\n",
            "Requirement already satisfied: setuptools>=18.5 in /usr/local/lib/python3.7/dist-packages (from IPython>=0.13->line_profiler) (57.4.0)\n",
            "Requirement already satisfied: pygments in /usr/local/lib/python3.7/dist-packages (from IPython>=0.13->line_profiler) (2.6.1)\n",
            "Requirement already satisfied: pickleshare in /usr/local/lib/python3.7/dist-packages (from IPython>=0.13->line_profiler) (0.7.5)\n",
            "Requirement already satisfied: decorator in /usr/local/lib/python3.7/dist-packages (from IPython>=0.13->line_profiler) (4.4.2)\n",
            "Requirement already satisfied: pexpect in /usr/local/lib/python3.7/dist-packages (from IPython>=0.13->line_profiler) (4.8.0)\n",
            "Requirement already satisfied: prompt-toolkit<2.0.0,>=1.0.4 in /usr/local/lib/python3.7/dist-packages (from IPython>=0.13->line_profiler) (1.0.18)\n",
            "Requirement already satisfied: traitlets>=4.2 in /usr/local/lib/python3.7/dist-packages (from IPython>=0.13->line_profiler) (5.1.0)\n",
            "Requirement already satisfied: six>=1.9.0 in /usr/local/lib/python3.7/dist-packages (from prompt-toolkit<2.0.0,>=1.0.4->IPython>=0.13->line_profiler) (1.15.0)\n",
            "Requirement already satisfied: wcwidth in /usr/local/lib/python3.7/dist-packages (from prompt-toolkit<2.0.0,>=1.0.4->IPython>=0.13->line_profiler) (0.2.5)\n",
            "Requirement already satisfied: ptyprocess>=0.5 in /usr/local/lib/python3.7/dist-packages (from pexpect->IPython>=0.13->line_profiler) (0.7.0)\n",
            "Installing collected packages: line-profiler\n",
            "Successfully installed line-profiler-3.3.1\n"
          ]
        }
      ]
    },
    {
      "cell_type": "code",
      "metadata": {
        "colab": {
          "base_uri": "https://localhost:8080/"
        },
        "id": "opH9h0iozkne",
        "outputId": "db09b5cc-a0e2-4777-b202-9e3a8ff98ead"
      },
      "source": [
        "# Code profiling: memory\n",
        "\n",
        "!pip install memory_profiler\n",
        "# from hero_funcs import convert_units\n",
        "%load_ext memory_profiler\n",
        "%mprun -f convert_units convert_units(heroes, hts, wts)"
      ],
      "execution_count": 7,
      "outputs": [
        {
          "output_type": "stream",
          "name": "stdout",
          "text": [
            "Requirement already satisfied: memory_profiler in /usr/local/lib/python3.7/dist-packages (0.58.0)\n",
            "Requirement already satisfied: psutil in /usr/local/lib/python3.7/dist-packages (from memory_profiler) (5.4.8)\n"
          ]
        },
        {
          "output_type": "stream",
          "name": "stderr",
          "text": [
            "\n",
            "PYDEV DEBUGGER WARNING:\n",
            "sys.settrace() should not be used when the debugger is being used.\n",
            "This may cause the debugger to stop working correctly.\n",
            "If this is needed, please check: \n",
            "http://pydev.blogspot.com/2007/06/why-cant-pydev-debugger-work-with.html\n",
            "to see how to restore the debug tracing back correctly.\n",
            "Call Location:\n",
            "  File \"/usr/local/lib/python3.7/dist-packages/memory_profiler.py\", line 803, in enable\n",
            "    sys.settrace(self.trace_memory_usage)\n",
            "\n",
            "\n",
            "PYDEV DEBUGGER WARNING:\n",
            "sys.settrace() should not be used when the debugger is being used.\n",
            "This may cause the debugger to stop working correctly.\n",
            "If this is needed, please check: \n",
            "http://pydev.blogspot.com/2007/06/why-cant-pydev-debugger-work-with.html\n",
            "to see how to restore the debug tracing back correctly.\n",
            "Call Location:\n",
            "  File \"/usr/local/lib/python3.7/dist-packages/memory_profiler.py\", line 806, in disable\n",
            "    sys.settrace(self._original_trace_function)\n",
            "\n"
          ]
        },
        {
          "output_type": "stream",
          "name": "stdout",
          "text": [
            "ERROR: Could not find file <ipython-input-3-8b8b1b3b29ac>\n",
            "NOTE: %mprun can only be used on functions defined in physical files, and not in the IPython environment.\n",
            "\n"
          ]
        }
      ]
    },
    {
      "cell_type": "markdown",
      "metadata": {
        "id": "NrOlePCDjm5k"
      },
      "source": [
        "## Gaining efficiencies\n",
        "This chapter covers more complex efficiency tips and tricks. You'll learn a few useful built-in modules for writing efficient code and practice using set theory. You'll then learn about looping patterns in Python and how to make them more efficient."
      ]
    },
    {
      "cell_type": "code",
      "metadata": {
        "colab": {
          "base_uri": "https://localhost:8080/"
        },
        "id": "2uJq83Dr7jpy",
        "outputId": "080242d3-19f3-4273-bb0a-12e5abf42f21"
      },
      "source": [
        "# Pokemon's Pokedex\n",
        "names = ['Bulbasaur','Charmander','Squirtle']\n",
        "hps = [45, 39, 44]\n",
        "\n",
        "#Combining objects:\n",
        "combined = []\n",
        "for i,pokemon in enumerate(names):\n",
        "  combined.append((pokemon, hps[i]))\n",
        "print(combined)\n"
      ],
      "execution_count": 1,
      "outputs": [
        {
          "output_type": "stream",
          "name": "stdout",
          "text": [
            "[('Bulbasaur', 45), ('Charmander', 39), ('Squirtle', 44)]\n"
          ]
        }
      ]
    },
    {
      "cell_type": "code",
      "metadata": {
        "colab": {
          "base_uri": "https://localhost:8080/"
        },
        "id": "61g9LORMUfpv",
        "outputId": "aa9cf98c-5360-4ed7-d45b-a7f1899f1871"
      },
      "source": [
        "# Combining objects with zip:\n",
        "\n",
        "combined_zip = zip(names, hps)\n",
        "print(type(combined_zip))\n",
        "\n",
        "combined_zip_list = [*combined_zip]\n",
        "print(combined_zip_list)"
      ],
      "execution_count": 2,
      "outputs": [
        {
          "output_type": "stream",
          "name": "stdout",
          "text": [
            "<class 'zip'>\n",
            "[('Bulbasaur', 45), ('Charmander', 39), ('Squirtle', 44)]\n"
          ]
        }
      ]
    },
    {
      "cell_type": "code",
      "metadata": {
        "colab": {
          "base_uri": "https://localhost:8080/"
        },
        "id": "ay1RQ_BcU0Qn",
        "outputId": "f1156b1d-761a-4150-dd5f-478ad239737d"
      },
      "source": [
        "# Combinations with loop:\n",
        "\n",
        "poke_types = ['Bug','Fire','Ghost','Grass','Water']\n",
        "combos = []\n",
        "\n",
        "for x in poke_types:\n",
        "  for y in poke_types:\n",
        "    if x == y:\n",
        "      continue\n",
        "    if ((x,y) not in combos) & ((y,x) not in combos):\n",
        "      combos.append((x,y))\n",
        "print(combos)\n"
      ],
      "execution_count": 3,
      "outputs": [
        {
          "output_type": "stream",
          "name": "stdout",
          "text": [
            "[('Bug', 'Fire'), ('Bug', 'Ghost'), ('Bug', 'Grass'), ('Bug', 'Water'), ('Fire', 'Ghost'), ('Fire', 'Grass'), ('Fire', 'Water'), ('Ghost', 'Grass'), ('Ghost', 'Water'), ('Grass', 'Water')]\n"
          ]
        }
      ]
    },
    {
      "cell_type": "code",
      "metadata": {
        "colab": {
          "base_uri": "https://localhost:8080/"
        },
        "id": "Gb0RVQG2VX8F",
        "outputId": "d7598a3f-0a77-4a07-ec46-0ee76331467d"
      },
      "source": [
        "#itertools.combinations()\n",
        "\n",
        "from itertools import combinations\n",
        "combos_obj = combinations(poke_types, 2)\n",
        "print(type(combos_obj))\n",
        "\n",
        "combos = [*combos_obj]\n",
        "print(combos)"
      ],
      "execution_count": 4,
      "outputs": [
        {
          "output_type": "stream",
          "name": "stdout",
          "text": [
            "<class 'itertools.combinations'>\n",
            "[('Bug', 'Fire'), ('Bug', 'Ghost'), ('Bug', 'Grass'), ('Bug', 'Water'), ('Fire', 'Ghost'), ('Fire', 'Grass'), ('Fire', 'Water'), ('Ghost', 'Grass'), ('Ghost', 'Water'), ('Grass', 'Water')]\n"
          ]
        }
      ]
    },
    {
      "cell_type": "markdown",
      "metadata": {
        "id": "rWrjAuVUYUye"
      },
      "source": [
        "### Set theory\n",
        "\n",
        "A set is a collection of distinct elements. Thus, we can use a set to collect unique items from an existing object. "
      ]
    },
    {
      "cell_type": "markdown",
      "metadata": {
        "id": "vZFRVe3N_uRA"
      },
      "source": [
        "We could **write a for loop** to iterate over the list, and only append the Pokemon types that haven't alreadt been added to the unique_types list.\n",
        "\n",
        "```\n",
        "# 720 Pokémon primary types corresponding to each Pokémon\n",
        "primary_types = ['Grass','Psychic','Dark','Bug', ...]\n",
        "\n",
        "```\n",
        "```\n",
        "unique_types = []\n",
        "for prim_type in primary_types:\n",
        "  if prim_type not in unique_types:\n",
        "    unique_types.append(prim_type) \n",
        "print(unique_types)\n",
        "```\n",
        "\n",
        "```\n",
        "['Grass','Psychic','Dark','Bug','Steel','Rock','Normal','Water','Dragon','Electric','Poison','Fire','Fairy','Ice','Ground','Ghost','Fighting','Flying']\n",
        "```\n",
        "\n",
        "\n"
      ]
    },
    {
      "cell_type": "markdown",
      "metadata": {
        "id": "ElrhVueBAUb-"
      },
      "source": [
        "Using **a set** would be much easier. All we have to do is convert the primary_types list into a set and we have our solution: **a set of distinct Pokemon types**.\n",
        "\n",
        "\n",
        "```\n",
        "# 720 Pokémon primary types corresponding to each Pokémon\n",
        "primary_types = ['Grass','Psychic','Dark','Bug', ...]\n",
        "\n",
        "```\n",
        "\n",
        "```\n",
        "unique_types_set = set(primary_types)\n",
        "```\n",
        "\n",
        "```\n",
        "{'Grass','Psychic','Dark','Bug','Steel','Rock','Normal','Water','Dragon','Electric','Poison','Fire','Fairy','Ice','Ground','Ghost','Fighting','Flying'}\n",
        "```"
      ]
    },
    {
      "cell_type": "code",
      "metadata": {
        "colab": {
          "base_uri": "https://localhost:8080/"
        },
        "id": "VfpHYxqwVf4v",
        "outputId": "094f1a1e-f82c-417a-f597-db4bf4c4a6b1"
      },
      "source": [
        "# Comparing objects with loops\n",
        "list_a = ['Bulbasaur','Charmander','Squirtle']\n",
        "list_b = ['Caterpie','Pidgey','Squirtle']\n",
        "\n",
        "set_a = set(list_a)\n",
        "print(set_a)\n",
        "\n",
        "set_b = set(list_b)\n",
        "print(set_b)\n",
        "\n",
        "# for loop:\n",
        "in_common = []\n",
        "for pokemon_a in list_a:\n",
        "  for pokemon_b in list_b:\n",
        "    if pokemon_a == pokemon_b:\n",
        "      in_common.append(pokemon_a)\n",
        "\n",
        "print(\"for loop: in common\")\n",
        "print(in_common)\n",
        "\n",
        "# Intersection collects all Pokemons that exists in set_a and set_b\n",
        "print(\"intersection:\")\n",
        "print(set_a.intersection(set_b))\n",
        "\n",
        "# Difference collects all Pokemons that exists in set_a but not in set_b\n",
        "print(\"difference:\")\n",
        "print(set_a.difference(set_b))\n",
        "\n",
        "# Symmetric difference collects Pokemon that exist in exactly one of the sets (but not both)\n",
        "print(\"symmetric difference:\")\n",
        "set_a.symmetric_difference(set_b)\n",
        "\n",
        "# Union collects all of the unique pokemon that appear in either of both sets.\n",
        "# Duplicates will be gathered once\n",
        "print(\"symmetric difference:\")\n",
        "set_a.union(set_b)\n"
      ],
      "execution_count": 9,
      "outputs": [
        {
          "output_type": "stream",
          "name": "stdout",
          "text": [
            "{'Squirtle', 'Charmander', 'Bulbasaur'}\n",
            "{'Caterpie', 'Squirtle', 'Pidgey'}\n",
            "for loop: in common\n",
            "['Squirtle']\n",
            "intersection:\n",
            "{'Squirtle'}\n",
            "difference:\n",
            "{'Charmander', 'Bulbasaur'}\n",
            "symmetric difference:\n"
          ]
        },
        {
          "output_type": "execute_result",
          "data": {
            "text/plain": [
              "{'Bulbasaur', 'Caterpie', 'Charmander', 'Pidgey'}"
            ]
          },
          "metadata": {},
          "execution_count": 9
        }
      ]
    },
    {
      "cell_type": "markdown",
      "metadata": {
        "id": "LI9Wwvh-JGvz"
      },
      "source": [
        "### Comparing Pokedexes\n",
        "\n",
        "Two Pokémon trainers, Ash and Misty, would like to compare their individual collections of Pokémon. Let's see what Pokémon they have in common and what Pokémon Ash has that Misty does not.\n",
        "\n",
        "Both Ash and Misty's Pokédex (their collection of Pokémon) have been loaded into your session as lists called ash_pokedex and misty_pokedex. They have been printed into the console for your convenience."
      ]
    },
    {
      "cell_type": "code",
      "metadata": {
        "id": "PHDy7SpxJLsO"
      },
      "source": [
        "ash_pokedex = ['Pikachu', 'Bulbasaur', 'Koffing', 'Spearow', 'Vulpix', 'Wigglytuff', 'Zubat', 'Rattata', 'Psyduck', 'Squirtle'] \n",
        "misty_pokedex =  ['Krabby', 'Horsea', 'Slowbro', 'Tentacool', 'Vaporeon', 'Magikarp', 'Poliwag', 'Starmie', 'Psyduck', 'Squirtle']"
      ],
      "execution_count": 10,
      "outputs": []
    },
    {
      "cell_type": "code",
      "metadata": {
        "colab": {
          "base_uri": "https://localhost:8080/"
        },
        "id": "_GdJgcObJEF3",
        "outputId": "c9530f8a-7ea5-4271-8879-77d0a38b28c5"
      },
      "source": [
        "# Convert both lists to sets\n",
        "ash_set = set(ash_pokedex)\n",
        "misty_set = set(misty_pokedex)\n",
        "\n",
        "# Find the Pokémon that exist in both sets\n",
        "both = ash_set.intersection(misty_set)\n",
        "print(both)\n",
        "\n",
        "# Find the Pokémon that Ash has and Misty does not have\n",
        "ash_only = ash_set.difference(misty_set)\n",
        "print(ash_only)\n",
        "\n",
        "# Find the Pokémon that are in only one set (not both)\n",
        "unique_to_set = ash_set.symmetric_difference(misty_set)\n",
        "print(unique_to_set)"
      ],
      "execution_count": 11,
      "outputs": [
        {
          "output_type": "stream",
          "name": "stdout",
          "text": [
            "{'Psyduck', 'Squirtle'}\n",
            "{'Pikachu', 'Bulbasaur', 'Koffing', 'Rattata', 'Vulpix', 'Wigglytuff', 'Zubat', 'Spearow'}\n",
            "{'Spearow', 'Pikachu', 'Rattata', 'Vulpix', 'Magikarp', 'Bulbasaur', 'Poliwag', 'Koffing', 'Wigglytuff', 'Zubat', 'Horsea', 'Krabby', 'Vaporeon', 'Starmie', 'Tentacool', 'Slowbro'}\n"
          ]
        }
      ]
    },
    {
      "cell_type": "markdown",
      "metadata": {
        "id": "GJP8c-bDW2dm"
      },
      "source": [
        "###Gathering unique Pokemon\n",
        "\n",
        "A sample of 500 Pokémon has been created **with replacement** (meaning a Pokémon could be selected more than once and duplicates exist within the sample).\n",
        "\n",
        "Three lists have been loaded into your session:\n",
        "\n",
        "* The names list contains the names of each Pokémon in the sample.\n",
        "* The primary_types list containing the corresponding primary type of each Pokémon in the sample.\n",
        "* The generations list contains the corresponding generation of each Pokémon in the sample.\n",
        "\n"
      ]
    },
    {
      "cell_type": "code",
      "metadata": {
        "id": "cn6PaYhcWhVE"
      },
      "source": [
        "# Use find_unique_items() to collect unique Pokémon names\n",
        "uniq_names_func = find_unique_items(names)\n",
        "print(len(uniq_names_func))\n",
        "\n",
        "# Convert the names list to a set to collect unique Pokémon names\n",
        "uniq_names_set = set(names)\n",
        "print(len(uniq_names_set))\n",
        "\n",
        "# Check that both unique collections are equivalent\n",
        "print(sorted(uniq_names_func) == sorted(uniq_names_set))\n",
        "\n",
        "# Use the best approach to collect unique primary types and generations\n",
        "uniq_types = set(primary_types) \n",
        "uniq_gens = set(generations)\n",
        "print(uniq_types, uniq_gens, sep='\\n') "
      ],
      "execution_count": null,
      "outputs": []
    },
    {
      "cell_type": "markdown",
      "metadata": {
        "id": "bloiYUHpWmbX"
      },
      "source": [
        "\n",
        "```\n",
        "<script.py> output:\n",
        "    368\n",
        "    368\n",
        "    True\n",
        "    {'Electric', 'Dark', 'Water', 'Normal', 'Ground', 'Grass', 'Bug', 'Poison', 'Dragon', 'Rock', 'Ice', 'Steel', 'Fighting', 'Fairy', 'Fire', 'Psychic', 'Ghost'}\n",
        "    {1, 2, 3, 4, 5, 6}\n",
        "```\n",
        "\n"
      ]
    },
    {
      "cell_type": "markdown",
      "metadata": {
        "id": "73-jjSbnjnE1"
      },
      "source": [
        "## Basic pandas optimizations\n",
        "This chapter offers a brief introduction on how to efficiently work with pandas DataFrames. You'll learn the various options you have for iterating over a DataFrame. Then, you'll learn how to efficiently apply functions to data stored in a DataFrame.\n",
        "\n"
      ]
    }
  ]
}