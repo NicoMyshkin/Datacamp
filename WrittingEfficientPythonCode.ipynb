{
  "nbformat": 4,
  "nbformat_minor": 0,
  "metadata": {
    "colab": {
      "name": "WrittingEfficientPythonCode.ipynb",
      "provenance": [],
      "authorship_tag": "ABX9TyNZAqTlKoxye6HkCE5eauXW",
      "include_colab_link": true
    },
    "kernelspec": {
      "name": "python3",
      "display_name": "Python 3"
    },
    "language_info": {
      "name": "python"
    }
  },
  "cells": [
    {
      "cell_type": "markdown",
      "metadata": {
        "id": "view-in-github",
        "colab_type": "text"
      },
      "source": [
        "<a href=\"https://colab.research.google.com/github/NicoMyshkin/Datacamp/blob/main/WrittingEfficientPythonCode.ipynb\" target=\"_parent\"><img src=\"https://colab.research.google.com/assets/colab-badge.svg\" alt=\"Open In Colab\"/></a>"
      ]
    },
    {
      "cell_type": "markdown",
      "metadata": {
        "id": "KxohcjN2ZKAb"
      },
      "source": [
        "#Writting Efficient Python Code\n",
        "\n",
        "## Defining efficient\n",
        "\n",
        "Writing **efficient** Python code:\n",
        "- Minimal completion time (fast runtime)\n",
        "- Minimal resource consumption (small memory footprint)\n",
        "\n",
        "## Defining pythonic\n",
        "Writing efficient **Python** code:\n",
        "- Focus on readability\n",
        "- Using Python's constructs as intended (i.e., Pythonic)\n",
        "\n",
        "```\n",
        "# Non-Pythonic\n",
        "doubled_numbers = []\n",
        "\n",
        "for i in range(len(numbers)):\n",
        "  doubled_numbers.append(numbers[i]*2)\n",
        "\n",
        "# Pythonic\n",
        "doubled_numbers = [x * 2 for x in numbers]\n",
        "\n",
        "```\n",
        "\n"
      ]
    },
    {
      "cell_type": "code",
      "metadata": {
        "id": "WzFjz9dRbwVW"
      },
      "source": [
        "names = ['Jerry', 'Kramer', 'Elaine', 'George', 'Newman']"
      ],
      "execution_count": null,
      "outputs": []
    },
    {
      "cell_type": "code",
      "metadata": {
        "id": "_WyRoOoMZF8V"
      },
      "source": [
        "# Print the list created using the Non-Pythonic approach\n",
        "i = 0\n",
        "new_list= []\n",
        "while i < len(names):\n",
        "    if len(names[i]) >= 6:\n",
        "        new_list.append(names[i])\n",
        "    i += 1\n",
        "print(new_list)"
      ],
      "execution_count": null,
      "outputs": []
    },
    {
      "cell_type": "code",
      "metadata": {
        "id": "lRLcn535brT3"
      },
      "source": [
        "# Print the list created by looping over the contents of names\n",
        "better_list = []\n",
        "for name in names:\n",
        "    if len(name) >= 6:\n",
        "        better_list.append(name)\n",
        "print(better_list)"
      ],
      "execution_count": null,
      "outputs": []
    },
    {
      "cell_type": "code",
      "metadata": {
        "id": "ezJ627d6bth7"
      },
      "source": [
        "# Print the list created by using list comprehension\n",
        "best_list = [name for name in names if len(name) >= 6]\n",
        "print(best_list)"
      ],
      "execution_count": null,
      "outputs": []
    },
    {
      "cell_type": "code",
      "metadata": {
        "id": "s8Z4Pn8vcSDR"
      },
      "source": [
        ""
      ],
      "execution_count": null,
      "outputs": []
    }
  ]
}