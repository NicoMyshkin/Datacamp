{
  "nbformat": 4,
  "nbformat_minor": 0,
  "metadata": {
    "colab": {
      "name": "ImportingJSON&WorkingAPIs.ipynb",
      "provenance": [],
      "authorship_tag": "ABX9TyPYYkqmuETQlIwtoo0DmTCL",
      "include_colab_link": true
    },
    "kernelspec": {
      "name": "python3",
      "display_name": "Python 3"
    },
    "language_info": {
      "name": "python"
    }
  },
  "cells": [
    {
      "cell_type": "markdown",
      "metadata": {
        "id": "view-in-github",
        "colab_type": "text"
      },
      "source": [
        "<a href=\"https://colab.research.google.com/github/NicoMyshkin/Datacamp/blob/main/ImportingJSON%26WorkingAPIs.ipynb\" target=\"_parent\"><img src=\"https://colab.research.google.com/assets/colab-badge.svg\" alt=\"Open In Colab\"/></a>"
      ]
    },
    {
      "cell_type": "code",
      "metadata": {
        "id": "O1MNbU54OjQZ"
      },
      "source": [
        "!pip install requests"
      ],
      "execution_count": null,
      "outputs": []
    },
    {
      "cell_type": "code",
      "metadata": {
        "id": "kZfp4SRAOIJX"
      },
      "source": [
        "# Load pandas as pd\n",
        "import pandas as pd\n",
        "\n",
        "import requests as requests\n"
      ],
      "execution_count": null,
      "outputs": []
    },
    {
      "cell_type": "code",
      "metadata": {
        "id": "u1jeUPbGEk6O"
      },
      "source": [
        "# Load pandas as pd\n",
        "import pandas as pd\n",
        "\n",
        "# Load the daily report to a data frame\n",
        "pop_in_shelters = pd.read_json('dhs_daily_report.json')\n",
        "\n",
        "# View summary stats about pop_in_shelters\n",
        "print(pop_in_shelters.describe())"
      ],
      "execution_count": null,
      "outputs": []
    },
    {
      "cell_type": "code",
      "metadata": {
        "id": "Dy18IBr_Nsth"
      },
      "source": [
        "try:\n",
        "    # Load the JSON with orient specified\n",
        "    df = pd.read_json(\"dhs_report_reformatted.json\",\n",
        "                      orient='split')\n",
        "    \n",
        "    # Plot total population in shelters over time\n",
        "    df[\"date_of_census\"] = pd.to_datetime(df[\"date_of_census\"])\n",
        "    df.plot(x=\"date_of_census\", \n",
        "            y=\"total_individuals_in_shelter\")\n",
        "    plt.show()\n",
        "    \n",
        "except ValueError:\n",
        "    print(\"pandas could not parse the JSON.\")"
      ],
      "execution_count": null,
      "outputs": []
    },
    {
      "cell_type": "code",
      "metadata": {
        "colab": {
          "base_uri": "https://localhost:8080/",
          "height": 231
        },
        "id": "MPE1m56LNug1",
        "outputId": "9a14e9d5-d7ff-4e5f-e263-61c7ca74bc54"
      },
      "source": [
        "api_url = \"https://api.yelp.com/v3/businesses/search\"\n",
        "api_key = \n",
        "\n",
        "# Set up parameter dictionary according to documentation\n",
        "params = {\"term\": \"bookstore\",\n",
        "          \"location\": \"San Francisco\"}\n",
        "# Set up header dictionary w/ API key according to documentation\n",
        "headers = {\"Authorization\": \"Bearer {}\".format(api_key)}\n",
        "\n",
        "\n",
        "# Get data about NYC cafes from the Yelp API\n",
        "response = requests.get(api_url, \n",
        "                headers=headers, \n",
        "                params=params)\n",
        "\n",
        "# Extract JSON data from the response\n",
        "data = response.json()\n",
        "\n",
        "# Load data to a data frame\n",
        "cafes = pd.DataFrame(data[\"businesses\"])\n",
        "\n",
        "# View the data's dtypes"
      ],
      "execution_count": null,
      "outputs": [
        {
          "output_type": "error",
          "ename": "NameError",
          "evalue": "ignored",
          "traceback": [
            "\u001b[0;31m---------------------------------------------------------------------------\u001b[0m",
            "\u001b[0;31mNameError\u001b[0m                                 Traceback (most recent call last)",
            "\u001b[0;32m<ipython-input-12-b7c631a967c1>\u001b[0m in \u001b[0;36m<module>\u001b[0;34m()\u001b[0m\n\u001b[1;32m      5\u001b[0m           \"location\": \"San Francisco\"}\n\u001b[1;32m      6\u001b[0m \u001b[0;31m# Set up header dictionary w/ API key according to documentation\u001b[0m\u001b[0;34m\u001b[0m\u001b[0;34m\u001b[0m\u001b[0;34m\u001b[0m\u001b[0m\n\u001b[0;32m----> 7\u001b[0;31m \u001b[0mheaders\u001b[0m \u001b[0;34m=\u001b[0m \u001b[0;34m{\u001b[0m\u001b[0;34m\"Authorization\"\u001b[0m\u001b[0;34m:\u001b[0m \u001b[0;34m\"Bearer {}\"\u001b[0m\u001b[0;34m.\u001b[0m\u001b[0mformat\u001b[0m\u001b[0;34m(\u001b[0m\u001b[0mapi_key\u001b[0m\u001b[0;34m)\u001b[0m\u001b[0;34m}\u001b[0m\u001b[0;34m\u001b[0m\u001b[0;34m\u001b[0m\u001b[0m\n\u001b[0m\u001b[1;32m      8\u001b[0m \u001b[0;34m\u001b[0m\u001b[0m\n\u001b[1;32m      9\u001b[0m \u001b[0;34m\u001b[0m\u001b[0m\n",
            "\u001b[0;31mNameError\u001b[0m: name 'api_key' is not defined"
          ]
        }
      ]
    },
    {
      "cell_type": "code",
      "metadata": {
        "id": "hD7nxrk0NwYa"
      },
      "source": [
        "# Create dictionary to query API for cafes in NYC\n",
        "parameters = {\"term\":\"cafe\",\n",
        "          \t  \"location\":\"NYC\"}\n",
        "\n",
        "# Query the Yelp API with headers and params set\n",
        "response = requests.get(api_url,\n",
        "                params=parameters,\n",
        "                headers=headers)\n",
        "\n",
        "# Extract JSON data from response\n",
        "data = response.json()\n",
        "\n",
        "# Load \"businesses\" values to a data frame and print head\n",
        "cafes = pd.DataFrame(data[\"businesses\"])\n",
        "print(cafes.head())"
      ],
      "execution_count": null,
      "outputs": []
    },
    {
      "cell_type": "code",
      "metadata": {
        "id": "VhyQ6_6GNx9c"
      },
      "source": [
        "# Create dictionary that passes Authorization and key string\n",
        "headers = {\"Authorization\": \"Bearer {}\".format(api_key)}\n",
        "\n",
        "# Query the Yelp API with headers and params set\n",
        "response = requests.get(api_url,\n",
        "                        params=params,\n",
        "                        headers=headers)\n",
        "\n",
        "\n",
        "\n",
        "# Extract JSON data from response\n",
        "data = response.json()\n",
        "\n",
        "# Load \"businesses\" values to a data frame and print names\n",
        "cafes = pd.DataFrame(data[\"businesses\"])\n",
        "print(cafes.name)"
      ],
      "execution_count": null,
      "outputs": []
    },
    {
      "cell_type": "code",
      "metadata": {
        "id": "ilD8wt22Nzd_"
      },
      "source": [
        "# Load json_normalize()\n",
        "from pandas.io.json import json_normalize\n",
        "\n",
        "# Isolate the JSON data from the API response\n",
        "data = response.json()\n",
        "\n",
        "# Flatten business data into a data frame, replace separator\n",
        "cafes = json_normalize(data[\"businesses\"],\n",
        "             sep='_')\n",
        "\n",
        "# View data\n",
        "print(cafes.head())"
      ],
      "execution_count": null,
      "outputs": []
    },
    {
      "cell_type": "code",
      "metadata": {
        "id": "hMEXnWn1N0yu"
      },
      "source": [
        "# Load other business attributes and set meta prefix\n",
        "flat_cafes = json_normalize(data[\"businesses\"],\n",
        "                            sep=\"_\",\n",
        "                    \t\trecord_path=\"categories\",\n",
        "                    \t\tmeta=['name', \n",
        "                                  'alias',  \n",
        "                                  'rating',\n",
        "                          \t\t  ['coordinates', 'latitude'], \n",
        "                          \t\t  ['coordinates', 'longitude']],\n",
        "                    \t\tmeta_prefix='biz_')\n",
        "\n",
        "\n",
        "\n",
        "\n",
        "\n",
        "# View the data\n",
        "print(flat_cafes.head())"
      ],
      "execution_count": null,
      "outputs": []
    }
  ]
}